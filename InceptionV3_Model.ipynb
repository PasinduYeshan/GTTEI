{
 "cells": [
  {
   "cell_type": "markdown",
   "id": "corporate-mumbai",
   "metadata": {},
   "source": [
    "## Classification of Anomalies  in Gastrointestinal Tract through Endoscopic Imagery with Deep Learning\n",
    "\n",
    "### Transfer learning using InceptionV3 model"
   ]
  },
  {
   "cell_type": "markdown",
   "id": "related-assets",
   "metadata": {},
   "source": [
    "#### Download kvasir-dataset-v2"
   ]
  },
  {
   "cell_type": "code",
   "execution_count": null,
   "id": "selective-queensland",
   "metadata": {},
   "outputs": [],
   "source": [
    "!wget --no-check-certificate \\\n",
    "  https://datasets.simula.no/kvasir/data/kvasir-dataset-v2.zip\\\n",
    "  -O /tmp/kvasir-dataset-v2.zip"
   ]
  },
  {
   "cell_type": "markdown",
   "id": "australian-swiss",
   "metadata": {},
   "source": [
    "#### Extract Dataset"
   ]
  },
  {
   "cell_type": "code",
   "execution_count": null,
   "id": "congressional-sharp",
   "metadata": {},
   "outputs": [],
   "source": [
    "import os\n",
    "import zipfile\n",
    "\n",
    "zip_file = '/tmp/kvasir-dataset-v2.zip'\n",
    "zip_ref = zipfile.ZipFile(zip_file, 'r')\n",
    "\n",
    "zip_ref.extractall('/tmp')\n",
    "zip_ref.close()"
   ]
  },
  {
   "cell_type": "code",
   "execution_count": 1,
   "id": "interesting-clone",
   "metadata": {},
   "outputs": [],
   "source": [
    "import tensorflow as tf\n",
    "from tensorflow.keras.optimizers import RMSprop\n",
    "from tensorflow.keras.applications.inception_v3 import InceptionV3\n",
    "from tensorflow import keras\n",
    "from tensorflow.keras import layers\n",
    "from keras.models import Model\n",
    "from keras.layers import Dense\n",
    "from keras.utils import get_file\n",
    "from keras.preprocessing.image import ImageDataGenerator\n",
    "\n",
    "import numpy as np\n",
    "import matplotlib.pyplot as plt"
   ]
  },
  {
   "cell_type": "markdown",
   "id": "assured-peter",
   "metadata": {},
   "source": [
    "#### Generate data local kvasir-dataset-v2"
   ]
  },
  {
   "cell_type": "code",
   "execution_count": 2,
   "id": "handed-yacht",
   "metadata": {},
   "outputs": [
    {
     "name": "stdout",
     "output_type": "stream",
     "text": [
      "Found 3200 images belonging to 8 classes.\n",
      "Found 800 images belonging to 8 classes.\n"
     ]
    }
   ],
   "source": [
    "path ='/tmp/kvasir-dataset-v2'\n",
    "\n",
    "image_gen = ImageDataGenerator(\n",
    "    rescale=1/255,fill_mode='nearest', \n",
    "    brightness_range= [0.4,1],\n",
    "    validation_split = 0.2,\n",
    "    zoom_range=0.2,)\n",
    "\n",
    "train_generator = image_gen.flow_from_directory(\n",
    "    path,\n",
    "    target_size=(224,224),\n",
    "    batch_size=32,\n",
    "    subset=\"training\",\n",
    "    seed=1337,\n",
    "    class_mode='categorical'\n",
    ")\n",
    "\n",
    "validation_generator = image_gen.flow_from_directory(\n",
    "    path,\n",
    "    target_size=(224,224),\n",
    "    batch_size=32,\n",
    "    subset=\"validation\",\n",
    "    seed=1337,\n",
    "    class_mode='categorical'\n",
    ")"
   ]
  },
  {
   "cell_type": "markdown",
   "id": "casual-pressing",
   "metadata": {},
   "source": [
    "#### Instantiates the InceptionV3 architecture"
   ]
  },
  {
   "cell_type": "code",
   "execution_count": null,
   "id": "quarterly-paraguay",
   "metadata": {},
   "outputs": [],
   "source": [
    "inception_model = InceptionV3(input_shape=(224, 224, 3),\n",
    "                                include_top=False,\n",
    "                                weights='imagenet')\n",
    "\n",
    "for layer in inception_model.layers[:40]:\n",
    "        layer.trainable = False\n",
    "for layer in inception_model.layers[40:]:\n",
    "        layer.trainable = True\n",
    "\n",
    "last_layer = inception_model.get_layer('mixed7')\n",
    "last_output = last_layer.output"
   ]
  },
  {
   "cell_type": "markdown",
   "id": "electrical-property",
   "metadata": {},
   "source": [
    "#### Adding additional layers and compiling the model"
   ]
  },
  {
   "cell_type": "code",
   "execution_count": null,
   "id": "proof-optimization",
   "metadata": {},
   "outputs": [],
   "source": [
    "x = tf.keras.layers.Flatten()(last_output)\n",
    "x = tf.keras.layers.Dense(1024, activation='relu')(x)\n",
    "x = tf.keras.layers.Dense(512, activation='relu')(x)\n",
    "x = tf.keras.layers.Dropout(0.1)(x)\n",
    "x = tf.keras.layers.Dense(8, activation='softmax')(x)\n",
    "\n",
    "model =  tf.keras.Model( inception_model.input, x)\n",
    "\n",
    "model.compile(optimizer = RMSprop(lr=0.0001),\n",
    "              loss = 'categorical_crossentropy',\n",
    "              metrics = ['accuracy'])"
   ]
  },
  {
   "cell_type": "markdown",
   "id": "certified-contact",
   "metadata": {},
   "source": [
    "#### Training model"
   ]
  },
  {
   "cell_type": "code",
   "execution_count": null,
   "id": "personalized-craft",
   "metadata": {},
   "outputs": [],
   "source": [
    "epochs = 50\n",
    "\n",
    "history = model.fit(\n",
    "            train_generator,\n",
    "            validation_data = validation_generator,\n",
    "            steps_per_epoch = 5,\n",
    "            epochs = epochs,\n",
    "            validation_steps = 5,\n",
    "            verbose = 1)"
   ]
  },
  {
   "cell_type": "markdown",
   "id": "studied-casino",
   "metadata": {},
   "source": [
    "#### Print training and validation accuracy"
   ]
  },
  {
   "cell_type": "code",
   "execution_count": null,
   "id": "minute-health",
   "metadata": {},
   "outputs": [],
   "source": [
    "acc = history.history['accuracy']\n",
    "val_acc = history.history['val_accuracy']\n",
    "loss = history.history['loss']\n",
    "val_loss = history.history['val_loss']\n",
    "epochs = range(len(acc))\n",
    "\n",
    "plt.plot(epochs, acc, 'r', label='Training accuracy')\n",
    "plt.plot(epochs, val_acc, 'b', label='Validation accuracy')\n",
    "plt.title('Training and validation accuracy')\n",
    "plt.legend(loc=0)\n",
    "plt.figure()\n",
    "plt.show()"
   ]
  }
 ],
 "metadata": {
  "kernelspec": {
   "display_name": "Python 3",
   "language": "python",
   "name": "python3"
  },
  "language_info": {
   "codemirror_mode": {
    "name": "ipython",
    "version": 3
   },
   "file_extension": ".py",
   "mimetype": "text/x-python",
   "name": "python",
   "nbconvert_exporter": "python",
   "pygments_lexer": "ipython3",
   "version": "3.8.5"
  }
 },
 "nbformat": 4,
 "nbformat_minor": 5
}
