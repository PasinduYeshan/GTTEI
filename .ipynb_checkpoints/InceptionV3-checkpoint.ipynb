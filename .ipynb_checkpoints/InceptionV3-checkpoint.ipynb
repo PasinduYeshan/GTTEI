{
 "cells": [
  {
   "cell_type": "markdown",
   "metadata": {},
   "source": [
    "## Classification of Anomalies  in Gastrointestinal Tract through Endoscopic Imagery with Deep Learning\n",
    "\n",
    "### Transfer learning using InceptionV3 model"
   ]
  },
  {
   "cell_type": "markdown",
   "metadata": {
    "id": "BkjG237qSaHQ"
   },
   "source": [
    "#### Download kvasir-dataset-v2"
   ]
  },
  {
   "cell_type": "code",
   "execution_count": null,
   "metadata": {
    "colab": {
     "base_uri": "https://localhost:8080/"
    },
    "id": "N5Xc7xqGIp6Y",
    "outputId": "65d2f56c-b987-497b-d111-61df3fa5e3cf"
   },
   "outputs": [
    {
     "name": "stdout",
     "output_type": "stream",
     "text": [
      "--2021-03-16 07:41:37--  https://datasets.simula.no/kvasir/data/kvasir-dataset-v2.zip\n",
      "Resolving datasets.simula.no (datasets.simula.no)... 128.39.36.14\n",
      "Connecting to datasets.simula.no (datasets.simula.no)|128.39.36.14|:443... connected.\n",
      "HTTP request sent, awaiting response... 200 OK\n",
      "Length: 2489312085 (2.3G) [application/zip]\n",
      "Saving to: ‘/tmp/kvasir-dataset-v2.zip’\n",
      "\n",
      "/tmp/kvasir-dataset 100%[===================>]   2.32G  9.90MB/s    in 3m 56s  \n",
      "\n",
      "2021-03-16 07:45:34 (10.1 MB/s) - ‘/tmp/kvasir-dataset-v2.zip’ saved [2489312085/2489312085]\n",
      "\n"
     ]
    }
   ],
   "source": [
    "!wget --no-check-certificate \\\n",
    "  https://datasets.simula.no/kvasir/data/kvasir-dataset-v2.zip\\\n",
    "  -O /tmp/kvasir-dataset-v2.zip"
   ]
  },
  {
   "cell_type": "markdown",
   "metadata": {},
   "source": [
    "#### Extract Data from zip file"
   ]
  },
  {
   "cell_type": "code",
   "execution_count": null,
   "metadata": {
    "id": "dSvjvNd_I3yy"
   },
   "outputs": [],
   "source": [
    "import os\n",
    "import zipfile\n",
    "\n",
    "zip_file = '/tmp/kvasir-dataset-v2.zip'\n",
    "\n",
    "zip_ref = zipfile.ZipFile(zip_file, 'r')\n",
    "\n",
    "zip_ref.extractall('/tmp')\n",
    "zip_ref.close()"
   ]
  },
  {
   "cell_type": "code",
   "execution_count": null,
   "metadata": {
    "id": "O3q2hH9lL-DR"
   },
   "outputs": [],
   "source": [
    "import tensorflow as tf\n",
    "from tensorflow.keras.optimizers import RMSprop\n",
    "from tensorflow.keras.applications.inception_v3 import InceptionV3\n",
    "from tensorflow import keras\n",
    "from tensorflow.keras import layers\n",
    "from keras.models import Model\n",
    "from keras.layers import Dense\n",
    "from keras.utils import get_file\n",
    "from keras.preprocessing.image import ImageDataGenerator\n",
    "\n",
    "import numpy as np\n",
    "import matplotlib.pyplot as plt"
   ]
  },
  {
   "cell_type": "markdown",
   "metadata": {},
   "source": [
    "#### Generate data from local kvasir-dataset"
   ]
  },
  {
   "cell_type": "code",
   "execution_count": null,
   "metadata": {
    "colab": {
     "base_uri": "https://localhost:8080/"
    },
    "id": "yjeaiLW3KFvo",
    "outputId": "64f3b640-8a96-4161-b0ee-9c2fed22d045"
   },
   "outputs": [
    {
     "name": "stdout",
     "output_type": "stream",
     "text": [
      "Found 6400 images belonging to 8 classes.\n",
      "Found 1600 images belonging to 8 classes.\n"
     ]
    }
   ],
   "source": [
    "path ='/tmp/kvasir-dataset-v2'\n",
    "\n",
    "image_gen = ImageDataGenerator(\n",
    "    rescale=1/255,fill_mode='nearest', \n",
    "    brightness_range= [0.4,1],\n",
    "    validation_split = 0.2,\n",
    "    zoom_range=0.2,)\n",
    "\n",
    "train_generator = image_gen.flow_from_directory(\n",
    "    path,\n",
    "    target_size=(224,224),\n",
    "    batch_size=32,\n",
    "    subset=\"training\",\n",
    "    seed=1337,\n",
    "    class_mode='categorical'\n",
    ")\n",
    "\n",
    "validation_generator = image_gen.flow_from_directory(\n",
    "    path,\n",
    "    target_size=(224,224),\n",
    "    batch_size=32,\n",
    "    subset=\"validation\",\n",
    "    seed=1337,\n",
    "    class_mode='categorical'\n",
    ")\n"
   ]
  },
  {
   "cell_type": "markdown",
   "metadata": {},
   "source": [
    "#### Instantiates the InceptionV3 architecture"
   ]
  },
  {
   "cell_type": "code",
   "execution_count": null,
   "metadata": {
    "id": "6fd2yGPiKm8u"
   },
   "outputs": [],
   "source": [
    "inception_model = InceptionV3(input_shape=(224, 224, 3),\n",
    "                                include_top=False,\n",
    "                                weights='imagenet')\n",
    "\n",
    "for layer in inception_model.layers[:40]:\n",
    "        layer.trainable = False\n",
    "for layer in inception_model.layers[40:]:\n",
    "        layer.trainable = True\n",
    "\n",
    "last_layer = inception_model.get_layer('mixed7')\n",
    "last_output = last_layer.output"
   ]
  },
  {
   "cell_type": "code",
   "execution_count": null,
   "metadata": {
    "id": "eav2X0U8KuDY"
   },
   "outputs": [],
   "source": [
    "x = tf.keras.layers.Flatten()(last_output)\n",
    "x = tf.keras.layers.Dense(1024, activation='relu')(x)\n",
    "x = tf.keras.layers.Dense(512, activation='relu')(x)\n",
    "x = tf.keras.layers.Dropout(0.1)(x)\n",
    "x = tf.keras.layers.Dense(8, activation='softmax')(x)\n",
    "\n",
    "model =  tf.keras.Model( inception_model.input, x)\n",
    "\n",
    "model.compile(optimizer = RMSprop(lr=0.0001),\n",
    "              loss = 'categorical_crossentropy',\n",
    "              metrics = ['accuracy'])"
   ]
  },
  {
   "cell_type": "markdown",
   "metadata": {},
   "source": [
    "#### Training model"
   ]
  },
  {
   "cell_type": "code",
   "execution_count": null,
   "metadata": {
    "colab": {
     "base_uri": "https://localhost:8080/"
    },
    "id": "8-cSTlamKweC",
    "outputId": "a70b124f-ff5f-49f6-8df8-5868825b3c85"
   },
   "outputs": [
    {
     "name": "stdout",
     "output_type": "stream",
     "text": [
      "Epoch 1/50\n",
      "5/5 [==============================] - 17s 3s/step - loss: 3.1678 - accuracy: 0.1919 - val_loss: 2.1935 - val_accuracy: 0.2500\n",
      "Epoch 2/50\n",
      "5/5 [==============================] - 10s 2s/step - loss: 1.7779 - accuracy: 0.3085 - val_loss: 1.2267 - val_accuracy: 0.6062\n",
      "Epoch 3/50\n",
      "5/5 [==============================] - 9s 2s/step - loss: 1.1084 - accuracy: 0.6329 - val_loss: 1.1986 - val_accuracy: 0.6062\n",
      "Epoch 4/50\n",
      "5/5 [==============================] - 10s 2s/step - loss: 1.0837 - accuracy: 0.5772 - val_loss: 1.2571 - val_accuracy: 0.6313\n",
      "Epoch 5/50\n",
      "5/5 [==============================] - 10s 2s/step - loss: 0.7419 - accuracy: 0.7802 - val_loss: 1.2199 - val_accuracy: 0.5625\n",
      "Epoch 6/50\n",
      "5/5 [==============================] - 9s 2s/step - loss: 0.4371 - accuracy: 0.8510 - val_loss: 1.0797 - val_accuracy: 0.6625\n",
      "Epoch 7/50\n",
      "5/5 [==============================] - 10s 2s/step - loss: 0.5066 - accuracy: 0.8505 - val_loss: 1.0214 - val_accuracy: 0.6875\n",
      "Epoch 8/50\n",
      "5/5 [==============================] - 9s 2s/step - loss: 0.7806 - accuracy: 0.6954 - val_loss: 0.8404 - val_accuracy: 0.7000\n",
      "Epoch 9/50\n",
      "5/5 [==============================] - 9s 2s/step - loss: 0.5150 - accuracy: 0.7725 - val_loss: 1.2031 - val_accuracy: 0.6687\n",
      "Epoch 10/50\n",
      "5/5 [==============================] - 10s 2s/step - loss: 0.5890 - accuracy: 0.7715 - val_loss: 0.7945 - val_accuracy: 0.7312\n",
      "Epoch 11/50\n",
      "5/5 [==============================] - 9s 2s/step - loss: 0.5281 - accuracy: 0.8056 - val_loss: 0.5616 - val_accuracy: 0.7875\n",
      "Epoch 12/50\n",
      "5/5 [==============================] - 9s 2s/step - loss: 0.3095 - accuracy: 0.8885 - val_loss: 0.9037 - val_accuracy: 0.7312\n",
      "Epoch 13/50\n",
      "5/5 [==============================] - 10s 2s/step - loss: 0.4857 - accuracy: 0.8187 - val_loss: 0.8923 - val_accuracy: 0.7312\n",
      "Epoch 14/50\n",
      "5/5 [==============================] - 9s 2s/step - loss: 0.3465 - accuracy: 0.8443 - val_loss: 1.2223 - val_accuracy: 0.6562\n",
      "Epoch 15/50\n",
      "5/5 [==============================] - 9s 2s/step - loss: 0.3906 - accuracy: 0.8491 - val_loss: 0.7138 - val_accuracy: 0.7688\n",
      "Epoch 16/50\n",
      "5/5 [==============================] - 10s 2s/step - loss: 0.3857 - accuracy: 0.8801 - val_loss: 0.6488 - val_accuracy: 0.8062\n",
      "Epoch 17/50\n",
      "5/5 [==============================] - 9s 2s/step - loss: 0.2082 - accuracy: 0.8901 - val_loss: 1.1543 - val_accuracy: 0.7500\n",
      "Epoch 18/50\n",
      "5/5 [==============================] - 9s 2s/step - loss: 0.3874 - accuracy: 0.8161 - val_loss: 1.0198 - val_accuracy: 0.7500\n",
      "Epoch 19/50\n",
      "5/5 [==============================] - 9s 2s/step - loss: 0.4437 - accuracy: 0.8297 - val_loss: 0.9953 - val_accuracy: 0.7437\n",
      "Epoch 20/50\n",
      "5/5 [==============================] - 9s 2s/step - loss: 0.4203 - accuracy: 0.8250 - val_loss: 0.5565 - val_accuracy: 0.8500\n",
      "Epoch 21/50\n",
      "5/5 [==============================] - 9s 2s/step - loss: 0.2807 - accuracy: 0.9049 - val_loss: 0.4449 - val_accuracy: 0.8687\n",
      "Epoch 22/50\n",
      "5/5 [==============================] - 9s 2s/step - loss: 0.3197 - accuracy: 0.8799 - val_loss: 0.7002 - val_accuracy: 0.8438\n",
      "Epoch 23/50\n",
      "5/5 [==============================] - 9s 2s/step - loss: 0.3145 - accuracy: 0.8792 - val_loss: 0.4988 - val_accuracy: 0.8813\n",
      "Epoch 24/50\n",
      "5/5 [==============================] - 9s 2s/step - loss: 0.3662 - accuracy: 0.8650 - val_loss: 0.6684 - val_accuracy: 0.8438\n",
      "Epoch 25/50\n",
      "5/5 [==============================] - 9s 2s/step - loss: 0.2902 - accuracy: 0.8866 - val_loss: 0.8481 - val_accuracy: 0.8313\n",
      "Epoch 26/50\n",
      "5/5 [==============================] - 9s 2s/step - loss: 0.4417 - accuracy: 0.8414 - val_loss: 0.4571 - val_accuracy: 0.8625\n",
      "Epoch 27/50\n",
      "5/5 [==============================] - 9s 2s/step - loss: 0.2720 - accuracy: 0.9069 - val_loss: 0.4133 - val_accuracy: 0.8750\n",
      "Epoch 28/50\n",
      "5/5 [==============================] - 9s 2s/step - loss: 0.2928 - accuracy: 0.9001 - val_loss: 0.4023 - val_accuracy: 0.8750\n",
      "Epoch 29/50\n",
      "5/5 [==============================] - 9s 2s/step - loss: 0.2980 - accuracy: 0.8762 - val_loss: 0.4444 - val_accuracy: 0.8500\n",
      "Epoch 30/50\n",
      "5/5 [==============================] - 9s 2s/step - loss: 0.2489 - accuracy: 0.9142 - val_loss: 0.5011 - val_accuracy: 0.8625\n",
      "Epoch 31/50\n",
      "5/5 [==============================] - 9s 2s/step - loss: 0.1759 - accuracy: 0.9268 - val_loss: 0.5822 - val_accuracy: 0.8562\n",
      "Epoch 32/50\n",
      "5/5 [==============================] - 9s 2s/step - loss: 0.3525 - accuracy: 0.8489 - val_loss: 0.4552 - val_accuracy: 0.8625\n",
      "Epoch 33/50\n",
      "5/5 [==============================] - 9s 2s/step - loss: 0.3651 - accuracy: 0.8616 - val_loss: 0.2850 - val_accuracy: 0.9250\n",
      "Epoch 34/50\n",
      "5/5 [==============================] - 10s 2s/step - loss: 0.3873 - accuracy: 0.8645 - val_loss: 0.4419 - val_accuracy: 0.8687\n",
      "Epoch 35/50\n",
      "5/5 [==============================] - 9s 2s/step - loss: 0.3379 - accuracy: 0.8842 - val_loss: 0.4145 - val_accuracy: 0.9000\n",
      "Epoch 36/50\n",
      "5/5 [==============================] - 10s 2s/step - loss: 0.1078 - accuracy: 0.9714 - val_loss: 0.3821 - val_accuracy: 0.9000\n",
      "Epoch 37/50\n",
      "5/5 [==============================] - 9s 2s/step - loss: 0.3381 - accuracy: 0.8843 - val_loss: 1.6717 - val_accuracy: 0.7312\n",
      "Epoch 38/50\n",
      "5/5 [==============================] - 9s 2s/step - loss: 0.2225 - accuracy: 0.9053 - val_loss: 0.6914 - val_accuracy: 0.8625\n",
      "Epoch 39/50\n",
      "5/5 [==============================] - 9s 2s/step - loss: 0.2925 - accuracy: 0.9027 - val_loss: 0.7924 - val_accuracy: 0.8562\n",
      "Epoch 40/50\n",
      "5/5 [==============================] - 9s 2s/step - loss: 0.2000 - accuracy: 0.9164 - val_loss: 0.6093 - val_accuracy: 0.8687\n",
      "Epoch 41/50\n",
      "5/5 [==============================] - 10s 2s/step - loss: 0.2956 - accuracy: 0.8711 - val_loss: 0.5176 - val_accuracy: 0.8875\n",
      "Epoch 42/50\n",
      "5/5 [==============================] - 9s 2s/step - loss: 0.2166 - accuracy: 0.8998 - val_loss: 0.3432 - val_accuracy: 0.8938\n",
      "Epoch 43/50\n",
      "5/5 [==============================] - 10s 2s/step - loss: 0.2489 - accuracy: 0.8903 - val_loss: 0.4928 - val_accuracy: 0.8813\n",
      "Epoch 44/50\n",
      "5/5 [==============================] - 9s 2s/step - loss: 0.2163 - accuracy: 0.9227 - val_loss: 0.7737 - val_accuracy: 0.8562\n",
      "Epoch 45/50\n",
      "5/5 [==============================] - 10s 2s/step - loss: 0.3068 - accuracy: 0.9105 - val_loss: 0.7111 - val_accuracy: 0.8562\n",
      "Epoch 46/50\n",
      "5/5 [==============================] - 9s 2s/step - loss: 0.1262 - accuracy: 0.9509 - val_loss: 0.6705 - val_accuracy: 0.8687\n",
      "Epoch 47/50\n",
      "5/5 [==============================] - 9s 2s/step - loss: 0.1526 - accuracy: 0.9271 - val_loss: 0.5479 - val_accuracy: 0.8813\n",
      "Epoch 48/50\n",
      "5/5 [==============================] - 9s 2s/step - loss: 0.2255 - accuracy: 0.9399 - val_loss: 0.3907 - val_accuracy: 0.9187\n",
      "Epoch 49/50\n",
      "5/5 [==============================] - 10s 2s/step - loss: 0.2402 - accuracy: 0.9121 - val_loss: 0.8709 - val_accuracy: 0.8625\n",
      "Epoch 50/50\n",
      "5/5 [==============================] - 10s 2s/step - loss: 0.1318 - accuracy: 0.9660 - val_loss: 0.7259 - val_accuracy: 0.8500\n"
     ]
    }
   ],
   "source": [
    "epochs = 50\n",
    "\n",
    "history = model.fit(\n",
    "            train_generator,\n",
    "            validation_data = validation_generator,\n",
    "            steps_per_epoch = 5,\n",
    "            epochs = epochs,\n",
    "            validation_steps = 5,\n",
    "            verbose = 1)"
   ]
  },
  {
   "cell_type": "code",
   "execution_count": null,
   "metadata": {
    "colab": {
     "base_uri": "https://localhost:8080/"
    },
    "id": "6RWYZIn-Kyr2",
    "outputId": "e2073bc2-348a-410d-d7b0-8ae157a7c05d"
   },
   "outputs": [
    {
     "data": {
      "image/png": "[encoded data removed]",
      "text/plain": [
       "<Figure size 432x288 with 1 Axes>"
      ]
     },
     "metadata": {
      "needs_background": "light",
      "tags": []
     },
     "output_type": "display_data"
    },
    {
     "data": {
      "text/plain": [
       "<Figure size 432x288 with 0 Axes>"
      ]
     },
     "metadata": {
      "tags": []
     },
     "output_type": "display_data"
    },
    {
     "data": {
      "image/png": "[encoded data removed]",
      "text/plain": [
       "<Figure size 432x288 with 1 Axes>"
      ]
     },
     "metadata": {
      "needs_background": "light",
      "tags": []
     },
     "output_type": "display_data"
    },
    {
     "data": {
      "text/plain": [
       "<Figure size 432x288 with 0 Axes>"
      ]
     },
     "metadata": {
      "tags": []
     },
     "output_type": "display_data"
    }
   ],
   "source": [
    "acc = history.history['accuracy']\n",
    "val_acc = history.history['val_accuracy']\n",
    "loss = history.history['loss']\n",
    "val_loss = history.history['val_loss']\n",
    "epochs = range(len(acc))\n",
    "\n",
    "plt.plot(epochs, acc, 'r', label='Training accuracy')\n",
    "plt.plot(epochs, val_acc, 'b', label='Validation accuracy')\n",
    "plt.title('Training and validation accuracy')\n",
    "plt.legend(loc=0)\n",
    "plt.figure()\n",
    "plt.show()\n",
    "\n",
    "plt.plot(epochs, loss, 'r', label='Training loss')\n",
    "plt.plot(epochs, val_loss, 'b', label='Validation loss')\n",
    "plt.title('Epoch loss')\n",
    "plt.legend(loc=0)\n",
    "plt.figure()\n",
    "plt.show()"
   ]
  },
  {
   "cell_type": "code",
   "execution_count": null,
   "metadata": {
    "id": "jTrHSZxFCqwk"
   },
   "outputs": [],
   "source": []
  }
 ],
 "metadata": {
  "accelerator": "GPU",
  "colab": {
   "name": "InceptionV3.ipynb",
   "provenance": []
  },
  "kernelspec": {
   "display_name": "Python 3",
   "language": "python",
   "name": "python3"
  },
  "language_info": {
   "codemirror_mode": {
    "name": "ipython",
    "version": 3
   },
   "file_extension": ".py",
   "mimetype": "text/x-python",
   "name": "python",
   "nbconvert_exporter": "python",
   "pygments_lexer": "ipython3",
   "version": "3.8.3"
  }
 },
 "nbformat": 4,
 "nbformat_minor": 1
}
