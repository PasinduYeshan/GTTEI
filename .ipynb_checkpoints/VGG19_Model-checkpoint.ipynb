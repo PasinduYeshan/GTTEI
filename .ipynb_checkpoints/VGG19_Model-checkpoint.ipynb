{
 "cells": [
  {
   "cell_type": "markdown",
   "metadata": {
    "id": "corporate-mumbai"
   },
   "source": [
    "## Classification of Anomalies  in Gastrointestinal Tract through Endoscopic Imagery with Deep Learning\n",
    "\n",
    "### Transfer learning using VGG19 model"
   ]
  },
  {
   "cell_type": "code",
   "execution_count": null,
   "metadata": {
    "id": "interesting-clone"
   },
   "outputs": [],
   "source": [
    "import tensorflow as tf\n",
    "from tensorflow.keras.optimizers import RMSprop\n",
    "from tensorflow.keras.applications.inception_v3 import InceptionV3\n",
    "from tensorflow import keras\n",
    "from tensorflow.keras import layers\n",
    "from keras.models import Model\n",
    "from keras.layers import Dense\n",
    "from keras.utils import get_file\n",
    "from keras.preprocessing.image import ImageDataGenerator\n",
    "from tensorflow.keras import applications\n",
    "from tensorflow.keras import optimizers\n",
    "\n",
    "import numpy as np\n",
    "import matplotlib.pyplot as plt"
   ]
  },
  {
   "cell_type": "markdown",
   "metadata": {},
   "source": [
    "#### Download kvasir-dataset-v2"
   ]
  },
  {
   "cell_type": "code",
   "execution_count": null,
   "metadata": {
    "colab": {
     "base_uri": "https://localhost:8080/"
    },
    "id": "Fxqrifh7CblP",
    "outputId": "09ecd319-75c8-4705-996d-1260615be4aa"
   },
   "outputs": [
    {
     "name": "stdout",
     "output_type": "stream",
     "text": [
      "--2021-03-16 06:51:11--  https://datasets.simula.no/kvasir/data/kvasir-dataset-v2.zip\n",
      "Resolving datasets.simula.no (datasets.simula.no)... 128.39.36.14\n",
      "Connecting to datasets.simula.no (datasets.simula.no)|128.39.36.14|:443... connected.\n",
      "HTTP request sent, awaiting response... 200 OK\n",
      "Length: 2489312085 (2.3G) [application/zip]\n",
      "Saving to: ‘/content/kvasir-dataset-v2.zip’\n",
      "\n",
      "/content/kvasir-dat 100%[===================>]   2.32G  24.0MB/s    in 95s     \n",
      "\n",
      "2021-03-16 06:52:47 (24.9 MB/s) - ‘/content/kvasir-dataset-v2.zip’ saved [2489312085/2489312085]\n",
      "\n"
     ]
    }
   ],
   "source": [
    "!wget --no-check-certificate \\\n",
    "  https://datasets.simula.no/kvasir/data/kvasir-dataset-v2.zip\\\n",
    "  -O /tmp/kvasir-dataset-v2.zip"
   ]
  },
  {
   "cell_type": "markdown",
   "metadata": {},
   "source": [
    "#### Extract Dataset"
   ]
  },
  {
   "cell_type": "code",
   "execution_count": null,
   "metadata": {
    "id": "MpKYbkmvDtte"
   },
   "outputs": [],
   "source": [
    "import os\n",
    "import zipfile\n",
    " \n",
    "zip_file = '/tmp/kvasir-dataset-v2.zip'\n",
    " \n",
    "zip_ref = zipfile.ZipFile(zip_file, 'r')\n",
    " \n",
    "zip_ref.extractall('/tmp')\n",
    "zip_ref.close()"
   ]
  },
  {
   "cell_type": "markdown",
   "metadata": {
    "id": "assured-peter"
   },
   "source": [
    "#### Generate data from local kvasir-dataset"
   ]
  },
  {
   "cell_type": "code",
   "execution_count": null,
   "metadata": {
    "colab": {
     "base_uri": "https://localhost:8080/"
    },
    "id": "handed-yacht",
    "outputId": "b12e49e0-1b05-49aa-f70a-6a27973ae68d"
   },
   "outputs": [
    {
     "name": "stdout",
     "output_type": "stream",
     "text": [
      "Found 6400 images belonging to 8 classes.\n",
      "Found 1600 images belonging to 8 classes.\n"
     ]
    }
   ],
   "source": [
    "path ='/tmp/kvasir-dataset-v2'\n",
    "\n",
    "image_gen = ImageDataGenerator(\n",
    "    rescale=1/255,fill_mode='nearest', \n",
    "    brightness_range= [0.4,1],\n",
    "    validation_split = 0.2,\n",
    "    zoom_range=0.2,)\n",
    "\n",
    "train_generator = image_gen.flow_from_directory(\n",
    "    path,\n",
    "    target_size=(224,224),\n",
    "    batch_size=32,\n",
    "    subset=\"training\",\n",
    "    seed=1337,\n",
    "    class_mode='categorical'\n",
    ")\n",
    "\n",
    "validation_generator = image_gen.flow_from_directory(\n",
    "    path,\n",
    "    target_size=(224,224),\n",
    "    batch_size=32,\n",
    "    subset=\"validation\",\n",
    "    seed=1337,\n",
    "    class_mode='categorical'\n",
    ")"
   ]
  },
  {
   "cell_type": "markdown",
   "metadata": {},
   "source": [
    "#### Instantiates the VGG19 architecture"
   ]
  },
  {
   "cell_type": "code",
   "execution_count": null,
   "metadata": {
    "colab": {
     "base_uri": "https://localhost:8080/"
    },
    "id": "quarterly-paraguay",
    "outputId": "14f60785-fb93-49ce-d58c-0367dfa8ae43"
   },
   "outputs": [
    {
     "name": "stdout",
     "output_type": "stream",
     "text": [
      "Downloading data from https://storage.googleapis.com/tensorflow/keras-applications/vgg19/vgg19_weights_tf_dim_ordering_tf_kernels_notop.h5\n",
      "80142336/80134624 [==============================] - 1s 0us/step\n",
      "Model: \"vgg19\"\n",
      "_________________________________________________________________\n",
      "Layer (type)                 Output Shape              Param #   \n",
      "=================================================================\n",
      "input_1 (InputLayer)         [(None, 224, 224, 3)]     0         \n",
      "_________________________________________________________________\n",
      "block1_conv1 (Conv2D)        (None, 224, 224, 64)      1792      \n",
      "_________________________________________________________________\n",
      "block1_conv2 (Conv2D)        (None, 224, 224, 64)      36928     \n",
      "_________________________________________________________________\n",
      "block1_pool (MaxPooling2D)   (None, 112, 112, 64)      0         \n",
      "_________________________________________________________________\n",
      "block2_conv1 (Conv2D)        (None, 112, 112, 128)     73856     \n",
      "_________________________________________________________________\n",
      "block2_conv2 (Conv2D)        (None, 112, 112, 128)     147584    \n",
      "_________________________________________________________________\n",
      "block2_pool (MaxPooling2D)   (None, 56, 56, 128)       0         \n",
      "_________________________________________________________________\n",
      "block3_conv1 (Conv2D)        (None, 56, 56, 256)       295168    \n",
      "_________________________________________________________________\n",
      "block3_conv2 (Conv2D)        (None, 56, 56, 256)       590080    \n",
      "_________________________________________________________________\n",
      "block3_conv3 (Conv2D)        (None, 56, 56, 256)       590080    \n",
      "_________________________________________________________________\n",
      "block3_conv4 (Conv2D)        (None, 56, 56, 256)       590080    \n",
      "_________________________________________________________________\n",
      "block3_pool (MaxPooling2D)   (None, 28, 28, 256)       0         \n",
      "_________________________________________________________________\n",
      "block4_conv1 (Conv2D)        (None, 28, 28, 512)       1180160   \n",
      "_________________________________________________________________\n",
      "block4_conv2 (Conv2D)        (None, 28, 28, 512)       2359808   \n",
      "_________________________________________________________________\n",
      "block4_conv3 (Conv2D)        (None, 28, 28, 512)       2359808   \n",
      "_________________________________________________________________\n",
      "block4_conv4 (Conv2D)        (None, 28, 28, 512)       2359808   \n",
      "_________________________________________________________________\n",
      "block4_pool (MaxPooling2D)   (None, 14, 14, 512)       0         \n",
      "_________________________________________________________________\n",
      "block5_conv1 (Conv2D)        (None, 14, 14, 512)       2359808   \n",
      "_________________________________________________________________\n",
      "block5_conv2 (Conv2D)        (None, 14, 14, 512)       2359808   \n",
      "_________________________________________________________________\n",
      "block5_conv3 (Conv2D)        (None, 14, 14, 512)       2359808   \n",
      "_________________________________________________________________\n",
      "block5_conv4 (Conv2D)        (None, 14, 14, 512)       2359808   \n",
      "_________________________________________________________________\n",
      "block5_pool (MaxPooling2D)   (None, 7, 7, 512)         0         \n",
      "=================================================================\n",
      "Total params: 20,024,384\n",
      "Trainable params: 20,024,384\n",
      "Non-trainable params: 0\n",
      "_________________________________________________________________\n"
     ]
    }
   ],
   "source": [
    "vgg19_model = applications.VGG19(weights = \"imagenet\", include_top=False, input_shape = (224, 224, 3))\n",
    "\n",
    "for layer in vgg19_model.layers:\n",
    "  layer.trainable = False\n",
    "for layer in vgg19_model.layers[:30]:\n",
    "  layer.trainable = True\n",
    "vgg19_model.summary()"
   ]
  },
  {
   "cell_type": "code",
   "execution_count": null,
   "metadata": {
    "id": "proof-optimization"
   },
   "outputs": [],
   "source": [
    "x = vgg19_model.output\n",
    "x =  tf.keras.layers.Flatten()(x)\n",
    "x = tf.keras.layers.Dense(1024, activation=\"relu\")(x)\n",
    "x = tf.keras.layers.Dropout(0.5)(x)\n",
    "x = tf.keras.layers.Dense(1024, activation=\"relu\")(x)\n",
    "predictions = tf.keras.layers.Dense(8, activation=\"softmax\")(x)   \n",
    "model = tf.keras.models.Model(vgg19_model.input,predictions)\n",
    "\n",
    "model.compile(optimizer =  optimizers.SGD(lr=0.0001, momentum=0.9),\n",
    "              loss = 'categorical_crossentropy',\n",
    "              metrics = ['accuracy'])"
   ]
  },
  {
   "cell_type": "markdown",
   "metadata": {
    "id": "certified-contact"
   },
   "source": [
    "#### Training model"
   ]
  },
  {
   "cell_type": "code",
   "execution_count": null,
   "metadata": {
    "colab": {
     "base_uri": "https://localhost:8080/"
    },
    "id": "personalized-craft",
    "outputId": "48f69f89-e6b8-4ce0-a116-ce7513d7344d"
   },
   "outputs": [
    {
     "name": "stdout",
     "output_type": "stream",
     "text": [
      "Epoch 1/20\n",
      "200/200 [==============================] - 275s 1s/step - loss: 1.8954 - accuracy: 0.2475 - val_loss: 0.9564 - val_accuracy: 0.6056\n",
      "Epoch 2/20\n",
      "200/200 [==============================] - 234s 1s/step - loss: 1.0072 - accuracy: 0.5645 - val_loss: 0.7811 - val_accuracy: 0.6581\n",
      "Epoch 3/20\n",
      "200/200 [==============================] - 234s 1s/step - loss: 0.7083 - accuracy: 0.6959 - val_loss: 0.5811 - val_accuracy: 0.7513\n",
      "Epoch 4/20\n",
      "200/200 [==============================] - 234s 1s/step - loss: 0.5643 - accuracy: 0.7714 - val_loss: 0.4565 - val_accuracy: 0.8012\n",
      "Epoch 5/20\n",
      "200/200 [==============================] - 233s 1s/step - loss: 0.4379 - accuracy: 0.8190 - val_loss: 0.4848 - val_accuracy: 0.7981\n",
      "Epoch 6/20\n",
      "200/200 [==============================] - 232s 1s/step - loss: 0.3968 - accuracy: 0.8366 - val_loss: 0.4316 - val_accuracy: 0.8275\n",
      "Epoch 7/20\n",
      "200/200 [==============================] - 234s 1s/step - loss: 0.3414 - accuracy: 0.8612 - val_loss: 0.3542 - val_accuracy: 0.8575\n",
      "Epoch 8/20\n",
      "200/200 [==============================] - 233s 1s/step - loss: 0.3347 - accuracy: 0.8596 - val_loss: 0.3448 - val_accuracy: 0.8612\n",
      "Epoch 9/20\n",
      "200/200 [==============================] - 234s 1s/step - loss: 0.3298 - accuracy: 0.8630 - val_loss: 0.3705 - val_accuracy: 0.8506\n",
      "Epoch 10/20\n",
      "200/200 [==============================] - 234s 1s/step - loss: 0.2796 - accuracy: 0.8829 - val_loss: 0.3613 - val_accuracy: 0.8625\n",
      "Epoch 11/20\n",
      "200/200 [==============================] - 233s 1s/step - loss: 0.2645 - accuracy: 0.8928 - val_loss: 0.3391 - val_accuracy: 0.8719\n",
      "Epoch 12/20\n",
      "200/200 [==============================] - 234s 1s/step - loss: 0.2560 - accuracy: 0.8960 - val_loss: 0.3466 - val_accuracy: 0.8744\n",
      "Epoch 13/20\n",
      "200/200 [==============================] - 235s 1s/step - loss: 0.2396 - accuracy: 0.9024 - val_loss: 0.3460 - val_accuracy: 0.8631\n",
      "Epoch 14/20\n",
      "200/200 [==============================] - 235s 1s/step - loss: 0.2094 - accuracy: 0.9131 - val_loss: 0.3185 - val_accuracy: 0.8744\n",
      "Epoch 15/20\n",
      "200/200 [==============================] - 234s 1s/step - loss: 0.2016 - accuracy: 0.9214 - val_loss: 0.3208 - val_accuracy: 0.8712\n",
      "Epoch 16/20\n",
      "200/200 [==============================] - 235s 1s/step - loss: 0.1913 - accuracy: 0.9178 - val_loss: 0.3488 - val_accuracy: 0.8838\n",
      "Epoch 17/20\n",
      "200/200 [==============================] - 235s 1s/step - loss: 0.1792 - accuracy: 0.9269 - val_loss: 0.3333 - val_accuracy: 0.8788\n",
      "Epoch 18/20\n",
      "200/200 [==============================] - 233s 1s/step - loss: 0.2182 - accuracy: 0.9115 - val_loss: 0.3119 - val_accuracy: 0.8875\n",
      "Epoch 19/20\n",
      "200/200 [==============================] - 234s 1s/step - loss: 0.1843 - accuracy: 0.9298 - val_loss: 0.3384 - val_accuracy: 0.8744\n",
      "Epoch 20/20\n",
      "200/200 [==============================] - 234s 1s/step - loss: 0.1623 - accuracy: 0.9312 - val_loss: 0.3601 - val_accuracy: 0.8725\n"
     ]
    }
   ],
   "source": [
    "epochs = 20\n",
    "\n",
    "history = model.fit(\n",
    "            train_generator,\n",
    "            batch_size = 8,\n",
    "            validation_data = validation_generator,\n",
    "            epochs = epochs,\n",
    "            verbose = 1)"
   ]
  },
  {
   "cell_type": "markdown",
   "metadata": {
    "id": "studied-casino"
   },
   "source": [
    "#### Plot training and validation accuracy"
   ]
  },
  {
   "cell_type": "code",
   "execution_count": null,
   "metadata": {
    "colab": {
     "base_uri": "https://localhost:8080/",
     "height": 579
    },
    "id": "minute-health",
    "outputId": "f9e16cc0-1037-4833-f1e2-0b2a059807c0"
   },
   "outputs": [
    {
     "data": {
      "image/png": "[encoded data removed]",
      "text/plain": [
       "<Figure size 432x288 with 1 Axes>"
      ]
     },
     "metadata": {
      "needs_background": "light",
      "tags": []
     },
     "output_type": "display_data"
    },
    {
     "data": {
      "text/plain": [
       "<Figure size 432x288 with 0 Axes>"
      ]
     },
     "metadata": {
      "tags": []
     },
     "output_type": "display_data"
    },
    {
     "data": {
      "image/png": "[encoded data removed]",
      "text/plain": [
       "<Figure size 432x288 with 1 Axes>"
      ]
     },
     "metadata": {
      "needs_background": "light",
      "tags": []
     },
     "output_type": "display_data"
    },
    {
     "data": {
      "text/plain": [
       "<Figure size 432x288 with 0 Axes>"
      ]
     },
     "metadata": {
      "tags": []
     },
     "output_type": "display_data"
    }
   ],
   "source": [
    "acc = history.history['accuracy']\n",
    "val_acc = history.history['val_accuracy']\n",
    "loss = history.history['loss']\n",
    "val_loss = history.history['val_loss']\n",
    "epochs = range(len(acc))\n",
    "\n",
    "plt.plot(epochs, acc, 'r', label='Training accuracy')\n",
    "plt.plot(epochs, val_acc, 'b', label='Validation accuracy')\n",
    "plt.title('Training and validation accuracy')\n",
    "plt.legend(loc=0)\n",
    "plt.figure()\n",
    "plt.show()\n",
    "\n",
    "plt.plot(epochs, loss, 'r', label='Training loss')\n",
    "plt.plot(epochs, val_loss, 'b', label='Validation loss')\n",
    "plt.title('Epoch loss')\n",
    "plt.legend(loc=0)\n",
    "plt.figure()\n",
    "plt.show()"
   ]
  },
  {
   "cell_type": "code",
   "execution_count": null,
   "metadata": {
    "id": "vMyqNtJeyCZt"
   },
   "outputs": [],
   "source": []
  }
 ],
 "metadata": {
  "accelerator": "GPU",
  "colab": {
   "collapsed_sections": [],
   "name": "VGG19_Model.ipynb",
   "provenance": []
  },
  "kernelspec": {
   "display_name": "Python 3",
   "language": "python",
   "name": "python3"
  },
  "language_info": {
   "codemirror_mode": {
    "name": "ipython",
    "version": 3
   },
   "file_extension": ".py",
   "mimetype": "text/x-python",
   "name": "python",
   "nbconvert_exporter": "python",
   "pygments_lexer": "ipython3",
   "version": "3.8.3"
  }
 },
 "nbformat": 4,
 "nbformat_minor": 5
}
